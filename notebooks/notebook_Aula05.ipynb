{
 "cells": [
  {
   "cell_type": "markdown",
   "id": "d4be88b4",
   "metadata": {},
   "source": [
    "# Cálculo de Energia Livre em Catálise usando VASP e ASE\n",
    "\n",
    "Autor: [Prof. Elvis do A. Soares](https://github.com/elvissoares) \n",
    "\n",
    "Contato: [elvis@peq.coppe.ufrj.br](mailto:elvis@peq.coppe.ufrj.br) - [Programa de Engenharia Química, PEQ/COPPE, UFRJ, Brasil](https://www.peq.coppe.ufrj.br/)\n",
    "\n",
    "---"
   ]
  },
  {
   "cell_type": "code",
   "execution_count": 2,
   "id": "fbb4801e",
   "metadata": {},
   "outputs": [],
   "source": [
    "import os\n",
    "# Definindo o path para os arquivos de potencial de pseudopotenciais do VASP\n",
    "# Certifique-se de que o caminho esteja correto para o seu sistema\n",
    "os.environ['VASP_PP_PATH'] = '/home/elvis/Programs/vasp-6.5.1/pp'\n",
    "os.environ['ASE_VASP_COMMAND'] = 'mpirun -np 1 vasp_std'\n",
    "os.environ['NO_STOP_MESSAGE'] = '1' # to avoid warning from mpirun\n",
    "\n",
    "# Importando o VASP calculator do ASE\n",
    "from ase.calculators.vasp import Vasp\n",
    "\n",
    "from ase import Atoms\n",
    "from ase.io import write, read\n",
    "from ase.visualize import view\n",
    "\n",
    "import numpy as np"
   ]
  },
  {
   "cell_type": "markdown",
   "id": "5b08e9cd",
   "metadata": {},
   "source": [
    "# Water Gas Shift Reaction\n",
    "\n",
    "$H_2 O + CO \\to CO_2 + H_2$ \n",
    "\n",
    "Valores experimentais\n",
    "\n",
    "$\\Delta G_r = -28.6\\ \\text{kJ/mol}$\n",
    "\n",
    "$\\Delta H_r = -41.2\\ \\text{kJ/mol}$"
   ]
  },
  {
   "cell_type": "code",
   "execution_count": 3,
   "id": "b922b828",
   "metadata": {},
   "outputs": [
    {
     "name": "stdout",
     "output_type": "stream",
     "text": [
      "Optimized energy of H2O: -14.219 eV\n"
     ]
    }
   ],
   "source": [
    "h2o = Atoms('H2O',\n",
    "            positions=[[-0.768, 0.000, 0.595],\n",
    "                       [0.768, 0.000, 0.595],\n",
    "                       [0.000, 0.000, 0.000]]) # geometria otimizada com PBE\n",
    "h2o.center(vacuum=6.0)  \n",
    "h2o.pbc = True\n",
    "\n",
    "calc_relax = Vasp(\n",
    "    directory='h2o_relax',\n",
    "    xc='PBE',\n",
    "    encut=450,\n",
    "    ismear=0, sigma=0.05,\n",
    "    ediff=1e-6, ediffg=-0.01,\n",
    "    isif=2, ibrion=2, nsw=100,\n",
    "    nelm=100,\n",
    "    lwave=True, lcharg=True, lvtot=True,\n",
    "    atoms=h2o\n",
    ")\n",
    "calc_relax.calculate(h2o) # demora por volta de 10 s\n",
    "\n",
    "E_h2o = h2o.get_potential_energy()\n",
    "\n",
    "print(f'Optimized energy of H2O: {E_h2o:.3f} eV')"
   ]
  },
  {
   "cell_type": "code",
   "execution_count": 4,
   "id": "bf7cf56f",
   "metadata": {},
   "outputs": [
    {
     "name": "stdout",
     "output_type": "stream",
     "text": [
      "Vibrational frequencies of H2O (cm⁻¹):\n",
      "f_v: 1584.770 cm⁻¹, E_v: 0.196 eV\n",
      "f_v: 3727.986 cm⁻¹, E_v: 0.462 eV\n",
      "f_v: 3840.037 cm⁻¹, E_v: 0.476 eV\n"
     ]
    }
   ],
   "source": [
    "calc_vib = Vasp(\n",
    "    directory='h2o_vib',\n",
    "    xc='PBE',\n",
    "    encut=450,\n",
    "    ismear=0, sigma=0.05,\n",
    "    ediff=1e-8,\n",
    "    ibrion=6,           # finite differences with symmetry\n",
    "    lreal=False,\n",
    "    lwave=False, lcharg=False,\n",
    "    atoms=h2o\n",
    ")\n",
    "\n",
    "calc_vib.calculate(h2o)\n",
    "\n",
    "vib_water = calc_vib.get_vibrations()\n",
    "\n",
    "# Frequencies (cm⁻¹)\n",
    "freqs = vib_water.get_frequencies()\n",
    "\n",
    "print(f'Vibrational frequencies of H2O (cm⁻¹):')\n",
    "vib_energies_h2o = []\n",
    "for freq in freqs:\n",
    "    if freq.real > 200:\n",
    "        vib_energy = (freq.real * 1.23981e-4)  # Convert cm⁻¹ to eV\n",
    "        vib_energies_h2o.append(vib_energy)\n",
    "        print(f'f_v: {freq.real:.3f} cm⁻¹, E_v: {vib_energy:.3f} eV')"
   ]
  },
  {
   "cell_type": "code",
   "execution_count": 7,
   "id": "0b24ffab",
   "metadata": {},
   "outputs": [
    {
     "name": "stdout",
     "output_type": "stream",
     "text": [
      "Optimized energy of CO: -14.780 eV\n"
     ]
    }
   ],
   "source": [
    "co = Atoms('CO',\n",
    "            positions=[[0.000, 0.000, 0.000],\n",
    "                       [0.000, 0.000, 1.144]]) # geometria otimizada com PBE\n",
    "co.center(vacuum=6.0)  \n",
    "co.pbc = True\n",
    "\n",
    "calc_relax = Vasp(\n",
    "    directory='co_relax',\n",
    "    xc='PBE',\n",
    "    encut=450,\n",
    "    ismear=0, sigma=0.05,\n",
    "    ediff=1e-6, ediffg=-0.01,\n",
    "    isif=2, ibrion=2, nsw=100,\n",
    "    nelm=100,\n",
    "    lwave=True, lcharg=True, lvtot=True,\n",
    "    atoms=co\n",
    ")\n",
    "calc_relax.calculate(co) # demora por volta de 10 s\n",
    "\n",
    "E_co = co.get_potential_energy()\n",
    "\n",
    "print(f'Optimized energy of CO: {E_co:.3f} eV')"
   ]
  },
  {
   "cell_type": "code",
   "execution_count": 8,
   "id": "be71feeb",
   "metadata": {},
   "outputs": [
    {
     "name": "stdout",
     "output_type": "stream",
     "text": [
      "Vibrational frequencies of CO (cm⁻¹):\n",
      "f_v: 2125.767 cm⁻¹, E_v: 0.264 eV\n"
     ]
    }
   ],
   "source": [
    "calc_vib = Vasp(\n",
    "    directory='co_vib',\n",
    "    xc='PBE',\n",
    "    encut=450,\n",
    "    ismear=0, sigma=0.05,\n",
    "    ediff=1e-8,\n",
    "    ibrion=6,           # finite differences with symmetry\n",
    "    lreal=False,\n",
    "    lwave=False, lcharg=False,\n",
    "    atoms=co\n",
    ")\n",
    "\n",
    "calc_vib.calculate(co)\n",
    "\n",
    "vib_co = calc_vib.get_vibrations()\n",
    "\n",
    "# Frequencies (cm⁻¹)\n",
    "freqs = vib_co.get_frequencies()\n",
    "\n",
    "print(f'Vibrational frequencies of CO (cm⁻¹):')\n",
    "vib_energies_co = []\n",
    "for freq in freqs:\n",
    "    if freq.real > 200:\n",
    "        vib_energy = (freq.real * 1.23981e-4)  # Convert cm⁻¹ to eV\n",
    "        vib_energies_co.append(vib_energy)\n",
    "        print(f'f_v: {freq.real:.3f} cm⁻¹, E_v: {vib_energy:.3f} eV')"
   ]
  },
  {
   "cell_type": "code",
   "execution_count": 10,
   "id": "278094b0",
   "metadata": {},
   "outputs": [
    {
     "name": "stdout",
     "output_type": "stream",
     "text": [
      "Optimized energy of CO2: -22.960 eV\n"
     ]
    }
   ],
   "source": [
    "co2 = Atoms('CO2',\n",
    "            positions=[[0.000, 0.000, 0.000],\n",
    "                       [0.000, 0.000, 1.177],\n",
    "                       [0.000, 0.000, -1.177]]) # geometria otimizada com PBE\n",
    "co2.center(vacuum=6.0)  \n",
    "co2.pbc = True\n",
    "\n",
    "calc_relax = Vasp(\n",
    "    directory='co2_relax',\n",
    "    xc='PBE',\n",
    "    encut=450,\n",
    "    ismear=0, sigma=0.05,\n",
    "    ediff=1e-6, ediffg=-0.01,\n",
    "    isif=2, ibrion=2, nsw=100,\n",
    "    nelm=100,\n",
    "    lwave=True, lcharg=True, lvtot=True,\n",
    "    atoms=co2\n",
    ")\n",
    "calc_relax.calculate(co2) # demora por volta de 10 s\n",
    "\n",
    "E_co2 = co2.get_potential_energy()\n",
    "\n",
    "print(f'Optimized energy of CO2: {E_co2:.3f} eV')"
   ]
  },
  {
   "cell_type": "code",
   "execution_count": 11,
   "id": "b40f17fb",
   "metadata": {},
   "outputs": [
    {
     "name": "stdout",
     "output_type": "stream",
     "text": [
      "Vibrational frequencies of CO2 (cm⁻¹):\n",
      "f_v: 631.459 cm⁻¹, E_v: 0.078 eV\n",
      "f_v: 631.459 cm⁻¹, E_v: 0.078 eV\n",
      "f_v: 1317.667 cm⁻¹, E_v: 0.163 eV\n",
      "f_v: 2365.977 cm⁻¹, E_v: 0.293 eV\n"
     ]
    }
   ],
   "source": [
    "calc_vib = Vasp(\n",
    "    directory='co2_vib',\n",
    "    xc='PBE',\n",
    "    encut=450,\n",
    "    ismear=0, sigma=0.05,\n",
    "    ediff=1e-8,\n",
    "    ibrion=6,           # finite differences with symmetry\n",
    "    lreal=False,\n",
    "    lwave=False, lcharg=False,\n",
    "    atoms=co2\n",
    ")\n",
    "\n",
    "calc_vib.calculate(co2)\n",
    "\n",
    "vib_co2 = calc_vib.get_vibrations()\n",
    "\n",
    "# Frequencies (cm⁻¹)\n",
    "freqs = vib_co2.get_frequencies()\n",
    "\n",
    "print(f'Vibrational frequencies of CO2 (cm⁻¹):')\n",
    "vib_energies_co2 = []\n",
    "for freq in freqs:\n",
    "    if freq.real > 200:\n",
    "        vib_energy = (freq.real * 1.23981e-4)  # Convert cm⁻¹ to eV\n",
    "        vib_energies_co2.append(vib_energy)\n",
    "        print(f'f_v: {freq.real:.3f} cm⁻¹, E_v: {vib_energy:.3f} eV')"
   ]
  },
  {
   "cell_type": "code",
   "execution_count": 12,
   "id": "aeb9a829",
   "metadata": {},
   "outputs": [
    {
     "name": "stdout",
     "output_type": "stream",
     "text": [
      "Optimized energy of H2: -6.766 eV\n"
     ]
    }
   ],
   "source": [
    "h2 = Atoms('H2',\n",
    "            positions=[[0.000, 0.000, 0.000],\n",
    "                       [0.000, 0.000, 0.740]]) # geometria otimizada com PBE\n",
    "h2.center(vacuum=6.0)  \n",
    "h2.pbc = True\n",
    "\n",
    "calc_relax = Vasp(\n",
    "    directory='h2_relax',\n",
    "    xc='PBE',\n",
    "    encut=450,\n",
    "    ismear=0, sigma=0.05,\n",
    "    ediff=1e-6, ediffg=-0.01,\n",
    "    isif=2, ibrion=2, nsw=100,\n",
    "    nelm=100,\n",
    "    lwave=True, lcharg=True, lvtot=True,\n",
    "    atoms=h2\n",
    ")\n",
    "calc_relax.calculate(h2) # demora por volta de 10 s\n",
    "\n",
    "E_h2 = h2.get_potential_energy()\n",
    "\n",
    "print(f'Optimized energy of H2: {E_h2:.3f} eV')"
   ]
  },
  {
   "cell_type": "code",
   "execution_count": null,
   "id": "9b47b27e",
   "metadata": {},
   "outputs": [
    {
     "name": "stdout",
     "output_type": "stream",
     "text": [
      "Vibrational frequencies of H2 (cm⁻¹):\n",
      "f_v: 4320.547 cm⁻¹, E_v: 0.536 eV\n"
     ]
    }
   ],
   "source": [
    "calc_vib = Vasp(\n",
    "    directory='h2_vib',\n",
    "    xc='PBE',\n",
    "    encut=450,\n",
    "    ismear=0, sigma=0.05,\n",
    "    ediff=1e-8,\n",
    "    ibrion=6,           # finite differences with symmetry\n",
    "    lreal=False,\n",
    "    lwave=False, lcharg=False,\n",
    "    atoms=h2\n",
    ")\n",
    "\n",
    "calc_vib.calculate(h2)\n",
    "\n",
    "vib_h2 = calc_vib.get_vibrations()\n",
    "\n",
    "# Frequencies (cm⁻¹)\n",
    "freqs = vib_h2.get_frequencies()\n",
    "\n",
    "print(f'Vibrational frequencies of H2 (cm⁻¹):')\n",
    "vib_energies_h2 = []\n",
    "for freq in freqs:\n",
    "    if freq.real > 200:\n",
    "        vib_energy = (freq.real * 1.23981e-4)  # Convert cm⁻¹ to eV\n",
    "        vib_energies_h2.append(vib_energy)\n",
    "        print(f'f_v: {freq.real:.3f} cm⁻¹, E_v: {vib_energy:.3f} eV')"
   ]
  },
  {
   "cell_type": "markdown",
   "id": "7727ff12",
   "metadata": {},
   "source": [
    "Calculando energia livre de Gibbs e Entalpia"
   ]
  },
  {
   "cell_type": "code",
   "execution_count": 19,
   "id": "4e5e332a",
   "metadata": {},
   "outputs": [
    {
     "name": "stdout",
     "output_type": "stream",
     "text": [
      "Water-gas shift reaction: CO + H2O -> CO2 + H2\n",
      "at T=298.15 K and P=101325.0 Pa:\n",
      "ΔG = -0.727 eV = -70.151 kJ/mol\n",
      "ΔH = -0.857 eV = -82.648 kJ/mol\n"
     ]
    }
   ],
   "source": [
    "from ase.thermochemistry import IdealGasThermo\n",
    "\n",
    "h2o_thermo = IdealGasThermo(vib_energies=vib_energies_h2o,\n",
    "                        potentialenergy=E_h2o, atoms=h2o,\n",
    "                        geometry='nonlinear', symmetrynumber=2, spin=0)\n",
    "\n",
    "co_thermo = IdealGasThermo(vib_energies=vib_energies_co,\n",
    "                        potentialenergy=E_co, atoms=co,\n",
    "                        geometry='linear', symmetrynumber=1, spin=0)\n",
    "\n",
    "h2_thermo = IdealGasThermo(vib_energies=vib_energies_h2,\n",
    "                        potentialenergy=E_h2, atoms=h2,\n",
    "                        geometry='linear', symmetrynumber=2, spin=0)\n",
    "\n",
    "co2_thermo = IdealGasThermo(vib_energies=vib_energies_co2,\n",
    "                        potentialenergy=E_co2, atoms=co2,\n",
    "                        geometry='linear', symmetrynumber=2, spin=0)\n",
    "\n",
    "\n",
    "P = 101325. # Pa\n",
    "T = 298.15 # K\n",
    "\n",
    "G_h2o = h2o_thermo.get_gibbs_energy(temperature=T, pressure=P, verbose=False)\n",
    "H_h2o = h2o_thermo.get_enthalpy(temperature=T, verbose=False)\n",
    "\n",
    "G_co = co_thermo.get_gibbs_energy(temperature=T, pressure=P, verbose=False)\n",
    "H_co = co_thermo.get_enthalpy(temperature=T, verbose=False)\n",
    "\n",
    "G_h2 = h2_thermo.get_gibbs_energy(temperature=T, pressure=P, verbose=False)\n",
    "H_h2 = h2_thermo.get_enthalpy(temperature=T, verbose=False)\n",
    "\n",
    "G_co2 = co2_thermo.get_gibbs_energy(temperature=T, pressure=P, verbose=False)\n",
    "H_co2 = co2_thermo.get_enthalpy(temperature=T, verbose=False)\n",
    "\n",
    "# Cálculo da variação de energia livre de Gibbs e entalpia para a reação WGS\n",
    "# CO + H2O -> CO2 + H2\n",
    "Gwgs = G_co2 + G_h2 - (G_co + G_h2o)\n",
    "Hwgs = H_co2 + H_h2 - (H_co + H_h2o)\n",
    "\n",
    "print('Water-gas shift reaction: CO + H2O -> CO2 + H2')\n",
    "print(f'at T={T} K and P={P} Pa:')\n",
    "print(f'ΔG = {Gwgs:.3f} eV = {Gwgs*96.485:.3f} kJ/mol')\n",
    "print(f'ΔH = {Hwgs:.3f} eV = {Hwgs*96.485:.3f} kJ/mol')\n"
   ]
  },
  {
   "cell_type": "markdown",
   "id": "88979892",
   "metadata": {},
   "source": [
    "# Reação de WGS com Catalisador de Pt(111)\n",
    "\n",
    "Reações de Adsorção\n",
    "\n",
    "$ H_2 O + ^* \\rightleftarrows H_2 O^*$ (1)\n",
    "\n",
    "$ CO + * \\to CO*$ (2) \n",
    "\n",
    "$ CO2 + * \\to CO2*$ (3) \n",
    "\n",
    "$ H2 + * \\to 2 H*$ (4) \n",
    "\n",
    "\n",
    "**Ref:** \n",
    "- Grabow, L. C., Gokhale, A. A., Evans, S. T., Dumesic, J. A., & Mavrikakis, M. (2008). _Mechanism of the water gas shift reaction on Pt: First principles, experiments, and microkinetic modeling._ The Journal of Physical Chemistry C, 112(12), 4608-4617. https://pubs.acs.org/doi/pdf/10.1021/jp7099702\n",
    "- Gokhale, A. A., Dumesic, J. A., & Mavrikakis, M. (2008). _On the mechanism of low-temperature water gas shift reaction on copper._ Journal of the American Chemical Society, 130(4), 1402-1414. https://pubs.acs.org/doi/pdf/10.1021/ja0768237"
   ]
  },
  {
   "cell_type": "markdown",
   "id": "741c5f8f",
   "metadata": {},
   "source": [
    "## Equilibrando Geometria do Catalisador"
   ]
  },
  {
   "cell_type": "markdown",
   "id": "610bdded",
   "metadata": {},
   "source": [
    "Cristal bulk de Pt"
   ]
  },
  {
   "cell_type": "code",
   "execution_count": 21,
   "id": "d526ec6d",
   "metadata": {},
   "outputs": [
    {
     "name": "stdout",
     "output_type": "stream",
     "text": [
      "Optimized energy of Pt: -24.458 eV\n",
      "Lattice length: 3.967 Å\n"
     ]
    }
   ],
   "source": [
    "from ase.lattice.cubic import FaceCenteredCubic\n",
    "\n",
    "# bulk system\n",
    "Pt_crystal = FaceCenteredCubic(size=(1, 1, 1), symbol='Pt', latticeconstant=3.967, pbc=True)\n",
    "\n",
    "calc_relax = Vasp(directory='Pt_relax',\n",
    "                xc='PBE',\n",
    "                kpts=[6, 6, 6],  # specifies k-points\n",
    "                encut=450,\n",
    "                ismear=0, sigma=0.05,\n",
    "                ediff=1e-6, ediffg=-0.01,\n",
    "                isif=7, ibrion=2, nsw=100, # ionic relaxation (ISIF=7: relax cell volume only)\n",
    "                atoms=Pt_crystal\n",
    "                )\n",
    "calc_relax.calculate(Pt_crystal) # demora por volta de 2 s\n",
    "\n",
    "E_Pt = Pt_crystal.get_potential_energy()\n",
    "\n",
    "a0_Pt = Pt_crystal.cell.cellpar()[0]\n",
    "\n",
    "print(f'Optimized energy of Pt: {E_Pt:.3f} eV')\n",
    "print(f\"Lattice length: {a0_Pt:.3f} Å\")"
   ]
  },
  {
   "cell_type": "markdown",
   "id": "94b7feb5",
   "metadata": {},
   "source": [
    "Superfície Pt111"
   ]
  },
  {
   "cell_type": "code",
   "execution_count": null,
   "id": "1de89dcf",
   "metadata": {},
   "outputs": [
    {
     "name": "stdout",
     "output_type": "stream",
     "text": [
      "Optimized energy of Pt111: -67.924 eV\n"
     ]
    }
   ],
   "source": [
    "from ase.build import fcc111\n",
    "\n",
    "# Superfície Pt111\n",
    "Pt111_slab = fcc111(\"Pt\", size=(2,2,3), a=a0_Pt)\n",
    "Pt111_slab.center(vacuum=5.0, axis=2)\n",
    "Pt111_slab.pbc = True\n",
    "\n",
    "calc_relax = Vasp(directory='Pt111_slab_relax',\n",
    "                xc='PBE',\n",
    "                kpts=[6, 6, 1],  # specifies k-points\n",
    "                encut=450,\n",
    "                ismear=0, sigma=0.05,\n",
    "                ediff=1e-6, ediffg=-0.01,\n",
    "                ibrion=-1, # just SCF (no ionic relaxation)\n",
    "                atoms=Pt111_slab\n",
    "                )\n",
    "calc_relax.calculate(Pt111_slab) # demora por volta de 12 s\n",
    "\n",
    "E_Pt111 = Pt111_slab.get_potential_energy()\n",
    "\n",
    "print(f'Optimized energy of Pt111: {E_Pt111:.3f} eV')"
   ]
  },
  {
   "cell_type": "markdown",
   "id": "62c59185",
   "metadata": {},
   "source": [
    "## Reação 1: Water Adsorption\n",
    "\n",
    "$ H_2 O + * \\to H_2 O*$ "
   ]
  },
  {
   "cell_type": "markdown",
   "id": "d6e095f3",
   "metadata": {},
   "source": [
    "Calculando equilíbrio da geometria da molécula $H_2 O$ adsorvida na superfície Pt111"
   ]
  },
  {
   "cell_type": "code",
   "execution_count": null,
   "id": "06acd055",
   "metadata": {},
   "outputs": [
    {
     "name": "stdout",
     "output_type": "stream",
     "text": [
      "Optimized energy of H2O in top position of Pt111: -82.353 eV\n"
     ]
    }
   ],
   "source": [
    "from ase.constraints import FixAtoms\n",
    "from ase.build import add_adsorbate\n",
    "# Adsorvendo a molécula de H2O na superfície Pt111\n",
    "\n",
    "H2Oads_slab = fcc111(\"Pt\", size=(2,2,3), a=a0_Pt)\n",
    "H2Oads_slab.center(vacuum=5.0, axis=2)\n",
    "H2Oads_slab.pbc = True\n",
    "\n",
    "h2o = Atoms('H2O',\n",
    "            positions=[[-0.768, 0.595, 0.000],\n",
    "                       [0.768, 0.595, 0.000],\n",
    "                       [0.000, 0.000, 0.000]]) # geometria otimizada com PBE\n",
    "\n",
    "h2o.rotate('z', 104.46/2) # rotaciona a molécula em 60 graus em torno do eixo z\n",
    "\n",
    "add_adsorbate(H2Oads_slab,  adsorbate=h2o, height=2.45, position = (4.50, 2.18), mol_index=2 )\n",
    "\n",
    "# fixando os átomos de Pt\n",
    "constraint = FixAtoms(mask=[atom.symbol=='Pt' for atom in H2Oads_slab])\n",
    "H2Oads_slab.set_constraint([constraint])\n",
    "\n",
    "calc_relax = Vasp(directory='Pt111_H2O_relax',\n",
    "                xc='PBE',\n",
    "                kpts=[6, 6, 1],  # specifies k-points\n",
    "                encut=450,\n",
    "                ismear=0, sigma=0.05,\n",
    "                ediff=1e-6, ediffg=-0.01,\n",
    "                isif=0, ibrion=2, nsw=100, # ionic relaxation (ISIF=2: relax atoms position only)\n",
    "                atoms=H2Oads_slab\n",
    "                )\n",
    "calc_relax.calculate(H2Oads_slab) # demora por volta de 260 min\n",
    "\n",
    "E_Pt111_H2O= H2Oads_slab.get_potential_energy()\n",
    "\n",
    "print(f'Optimized energy of H2O in top position of Pt111: {E_Pt111_H2O:.3f} eV')\n"
   ]
  },
  {
   "cell_type": "code",
   "execution_count": 24,
   "id": "c4c976e7",
   "metadata": {},
   "outputs": [
    {
     "name": "stdout",
     "output_type": "stream",
     "text": [
      "Adsorption energy of H2O on Pt111: -0.210 eV\n"
     ]
    }
   ],
   "source": [
    "E_ads_Pt111_H2O = E_Pt111_H2O - E_Pt111 - E_h2o\n",
    "\n",
    "print(f'Adsorption energy of H2O on Pt111: {E_ads_Pt111_H2O:.3f} eV')"
   ]
  },
  {
   "cell_type": "code",
   "execution_count": 25,
   "id": "2166223f",
   "metadata": {},
   "outputs": [
    {
     "name": "stdout",
     "output_type": "stream",
     "text": [
      "Vibrational frequencies of H2O on Pt111 (cm⁻¹):\n",
      "f_v: 514.212 cm⁻¹, E_v: 0.064 eV\n",
      "f_v: 569.373 cm⁻¹, E_v: 0.071 eV\n",
      "f_v: 1549.063 cm⁻¹, E_v: 0.192 eV\n",
      "f_v: 3559.200 cm⁻¹, E_v: 0.441 eV\n",
      "f_v: 3656.129 cm⁻¹, E_v: 0.453 eV\n"
     ]
    }
   ],
   "source": [
    "calc_vib = Vasp(\n",
    "    directory='Pt111_H2O_vib',\n",
    "    xc='PBE',\n",
    "    kpts=[6, 6, 1],\n",
    "    encut=450,\n",
    "    ismear=0, sigma=0.05,\n",
    "    ediff=1e-8,\n",
    "    ibrion=5,nfree=2, nsw=1,           # finite differences with selective dynamics (Pt atoms fixed)\n",
    "    lreal=False,lwave=False, lcharg=False,\n",
    "    atoms=H2Oads_slab\n",
    ")\n",
    "\n",
    "calc_vib.calculate(H2Oads_slab)\n",
    "\n",
    "vib_Pt111_h2o = calc_vib.get_vibrations()\n",
    "\n",
    "# Frequencies (cm⁻¹)\n",
    "freqs = vib_Pt111_h2o.get_frequencies()\n",
    "\n",
    "print(f'Vibrational frequencies of H2O on Pt111 (cm⁻¹):')\n",
    "\n",
    "vib_energie_Pt111_h2o = []\n",
    "for freq in freqs:\n",
    "    if freq.real > 200:\n",
    "        vib_energy = (freq.real * 1.23981e-4)  # Convert cm⁻¹ to eV\n",
    "        vib_energie_Pt111_h2o.append(vib_energy)\n",
    "        print(f'f_v: {freq.real:.3f} cm⁻¹, E_v: {vib_energy:.3f} eV')"
   ]
  },
  {
   "cell_type": "code",
   "execution_count": 26,
   "id": "0dfd0a57",
   "metadata": {},
   "outputs": [],
   "source": [
    "h2o_Pt111_thermo = IdealGasThermo(vib_energies=vib_energie_Pt111_h2o,\n",
    "                        potentialenergy=E_Pt111_H2O, atoms=H2Oads_slab,\n",
    "                        geometry='nonlinear', symmetrynumber=2, spin=0)\n",
    "\n",
    "G_h2o_Pt111 = h2o_Pt111_thermo.get_gibbs_energy(temperature=T, pressure=P, verbose=False)\n",
    "H_h2o_Pt111 = h2o_Pt111_thermo.get_enthalpy(temperature=T, verbose=False)"
   ]
  },
  {
   "cell_type": "code",
   "execution_count": 29,
   "id": "2484c19f",
   "metadata": {},
   "outputs": [
    {
     "name": "stdout",
     "output_type": "stream",
     "text": [
      "ΔH h2o adsorption = -0.156 eV\n"
     ]
    }
   ],
   "source": [
    "Hads_h2o = H_h2o_Pt111 - H_h2o - E_Pt111\n",
    "      \n",
    "print(f'ΔH h2o adsorption = {Hads_h2o:.3f} eV')"
   ]
  },
  {
   "cell_type": "markdown",
   "id": "cc5b4504",
   "metadata": {},
   "source": [
    "## Reação 2: CO Adsorption\n",
    "\n",
    "$ CO + * \\to CO*$ "
   ]
  },
  {
   "cell_type": "code",
   "execution_count": null,
   "id": "2228954d",
   "metadata": {},
   "outputs": [
    {
     "name": "stdout",
     "output_type": "stream",
     "text": [
      "Optimized energy of CO in top position of Pt111: -84.457 eV\n"
     ]
    }
   ],
   "source": [
    "# Adsorvendo a molécula de H2O na superfície Pt111\n",
    "\n",
    "COads_slab = fcc111(\"Pt\", size=(2,2,3), a=a0_Pt)\n",
    "COads_slab.center(vacuum=5.0, axis=2)\n",
    "COads_slab.pbc = True\n",
    "\n",
    "co = Atoms('CO',\n",
    "            positions=[[0.000, 0.000, 0.000],\n",
    "                       [0.000, 0.000, 1.20]]) # geometria otimizada com PBE\n",
    "\n",
    "add_adsorbate(COads_slab,  adsorbate=co, height=2.13, position ='hcp', mol_index=0 )\n",
    "\n",
    "# fixando os átomos de Pt\n",
    "constraint = FixAtoms(mask=[atom.symbol=='Pt' for atom in COads_slab])\n",
    "COads_slab.set_constraint([constraint])\n",
    "\n",
    "calc_relax = Vasp(directory='Pt111_CO_relax',\n",
    "                xc='PBE',\n",
    "                kpts=[6, 6, 1],  # specifies k-points\n",
    "                encut=450,\n",
    "                ismear=0, sigma=0.05,\n",
    "                ediff=1e-6, ediffg=-0.01,\n",
    "                isif=0, ibrion=2, nsw=100, # ionic relaxation (ISIF=2: relax atoms position only)\n",
    "                atoms=COads_slab\n",
    "                )\n",
    "calc_relax.calculate(COads_slab) # demora por volta de 14 min\n",
    "\n",
    "E_Pt111_CO= COads_slab.get_potential_energy()\n",
    "\n",
    "print(f'Optimized energy of CO in top position of Pt111: {E_Pt111_CO:.3f} eV')\n"
   ]
  },
  {
   "cell_type": "code",
   "execution_count": 31,
   "id": "4141a16b",
   "metadata": {},
   "outputs": [
    {
     "name": "stdout",
     "output_type": "stream",
     "text": [
      "Adsorption energy of CO on Pt111: -1.753 eV\n"
     ]
    }
   ],
   "source": [
    "E_ads_Pt111_CO = E_Pt111_CO - E_Pt111 - E_co\n",
    "\n",
    "print(f'Adsorption energy of CO on Pt111: {E_ads_Pt111_CO:.3f} eV')"
   ]
  },
  {
   "cell_type": "code",
   "execution_count": 32,
   "id": "398b4515",
   "metadata": {},
   "outputs": [
    {
     "name": "stdout",
     "output_type": "stream",
     "text": [
      "Vibrational frequencies of CO on Pt111 (cm⁻¹):\n",
      "f_v: 291.556 cm⁻¹, E_v: 0.036 eV\n",
      "f_v: 291.620 cm⁻¹, E_v: 0.036 eV\n",
      "f_v: 337.151 cm⁻¹, E_v: 0.042 eV\n",
      "f_v: 1777.169 cm⁻¹, E_v: 0.220 eV\n"
     ]
    }
   ],
   "source": [
    "calc_vib = Vasp(\n",
    "    directory='Pt111_CO_vib',\n",
    "    xc='PBE',\n",
    "    kpts=[6, 6, 1],\n",
    "    encut=450,\n",
    "    ismear=0, sigma=0.05,\n",
    "    ediff=1e-8,\n",
    "    ibrion=5,nfree=2, nsw=1,           # finite differences with selective dynamics (Pt atoms fixed)\n",
    "    lreal=False,lwave=False, lcharg=False,\n",
    "    atoms=COads_slab\n",
    ")\n",
    "\n",
    "calc_vib.calculate(COads_slab)\n",
    "\n",
    "vib_Pt111_co = calc_vib.get_vibrations()\n",
    "\n",
    "# Frequencies (cm⁻¹)\n",
    "freqs = vib_Pt111_co.get_frequencies()\n",
    "\n",
    "print(f'Vibrational frequencies of CO on Pt111 (cm⁻¹):')\n",
    "\n",
    "vib_energie_Pt111_co = []\n",
    "for freq in freqs:\n",
    "    if freq.real > 200:\n",
    "        vib_energy = (freq.real * 1.23981e-4)  # Convert cm⁻¹ to eV\n",
    "        vib_energie_Pt111_co.append(vib_energy)\n",
    "        print(f'f_v: {freq.real:.3f} cm⁻¹, E_v: {vib_energy:.3f} eV')"
   ]
  },
  {
   "cell_type": "code",
   "execution_count": 45,
   "id": "9e481ed2",
   "metadata": {},
   "outputs": [],
   "source": [
    "co_Pt111_thermo = IdealGasThermo(vib_energies=vib_energie_Pt111_co,\n",
    "                        potentialenergy=E_Pt111_CO, atoms=COads_slab,\n",
    "                        geometry='nonlinear', symmetrynumber=2, spin=0)\n",
    "\n",
    "G_co_Pt111 = co_Pt111_thermo.get_gibbs_energy(temperature=T, pressure=P, verbose=False)\n",
    "H_co_Pt111 = co_Pt111_thermo.get_enthalpy(temperature=T, verbose=False)"
   ]
  },
  {
   "cell_type": "code",
   "execution_count": 46,
   "id": "eea18027",
   "metadata": {},
   "outputs": [
    {
     "name": "stdout",
     "output_type": "stream",
     "text": [
      "ΔH co adsorption = -1.671 eV\n"
     ]
    }
   ],
   "source": [
    "Hads_co = H_co_Pt111 - H_co - E_Pt111\n",
    "      \n",
    "print(f'ΔH co adsorption = {Hads_co:.3f} eV')"
   ]
  },
  {
   "cell_type": "markdown",
   "id": "8882ab3a",
   "metadata": {},
   "source": [
    "## Reação 3: CO2 Adsorption\n",
    "\n",
    "$ CO2 + * \\to CO2*$ "
   ]
  },
  {
   "cell_type": "code",
   "execution_count": 38,
   "id": "96b0648a",
   "metadata": {},
   "outputs": [
    {
     "name": "stdout",
     "output_type": "stream",
     "text": [
      "Optimized energy of CO2 in top position of Pt111: -90.896 eV\n"
     ]
    }
   ],
   "source": [
    "# Adsorvendo a molécula de CO2 na superfície Pt111\n",
    "\n",
    "CO2ads_slab = fcc111(\"Pt\", size=(2,2,3), a=a0_Pt)\n",
    "CO2ads_slab.center(vacuum=5.0, axis=2)\n",
    "CO2ads_slab.pbc = True\n",
    "\n",
    "co2 = Atoms('CO2',\n",
    "            positions=[[0.000, 0.000, 0.000],\n",
    "                       [1.177, 0.000, 0.000],\n",
    "                       [-1.177, 0.000, 0.000]]) # geometria otimizada com PBE\n",
    "\n",
    "add_adsorbate(CO2ads_slab,  adsorbate=co2, height=2.5, position ='ontop', mol_index=0 )\n",
    "\n",
    "# fixando os átomos de Pt\n",
    "constraint = FixAtoms(mask=[atom.symbol=='Pt' for atom in CO2ads_slab])\n",
    "CO2ads_slab.set_constraint([constraint])\n",
    "\n",
    "calc_relax = Vasp(directory='Pt111_CO2_relax',\n",
    "                xc='PBE',\n",
    "                kpts=[6, 6, 1],  # specifies k-points\n",
    "                encut=450,\n",
    "                ismear=0, sigma=0.05,\n",
    "                ediff=1e-6, ediffg=-0.01,\n",
    "                isif=0, ibrion=2, nsw=100, # ionic relaxation (ISIF=2: relax atoms position only)\n",
    "                atoms=CO2ads_slab\n",
    "                )\n",
    "calc_relax.calculate(CO2ads_slab) # demora por volta de 29 min\n",
    "\n",
    "E_Pt111_CO2= CO2ads_slab.get_potential_energy()\n",
    "\n",
    "print(f'Optimized energy of CO2 in top position of Pt111: {E_Pt111_CO2:.3f} eV')\n"
   ]
  },
  {
   "cell_type": "code",
   "execution_count": 39,
   "id": "42264bec",
   "metadata": {},
   "outputs": [
    {
     "name": "stdout",
     "output_type": "stream",
     "text": [
      "Adsorption energy of CO2 on Pt111: -0.012 eV\n"
     ]
    }
   ],
   "source": [
    "E_ads_Pt111_CO2 = E_Pt111_CO2 - E_Pt111 - E_co2\n",
    "\n",
    "print(f'Adsorption energy of CO2 on Pt111: {E_ads_Pt111_CO2:.3f} eV')"
   ]
  },
  {
   "cell_type": "code",
   "execution_count": 40,
   "id": "f5c05161",
   "metadata": {},
   "outputs": [
    {
     "name": "stdout",
     "output_type": "stream",
     "text": [
      "Vibrational frequencies of CO2 on Pt111 (cm⁻¹):\n",
      "f_v: 628.211 cm⁻¹, E_v: 0.078 eV\n",
      "f_v: 629.188 cm⁻¹, E_v: 0.078 eV\n",
      "f_v: 1317.823 cm⁻¹, E_v: 0.163 eV\n",
      "f_v: 2347.994 cm⁻¹, E_v: 0.291 eV\n"
     ]
    }
   ],
   "source": [
    "calc_vib = Vasp(\n",
    "    directory='Pt111_CO2_vib',\n",
    "    xc='PBE',\n",
    "    kpts=[6, 6, 1],\n",
    "    encut=450,\n",
    "    ismear=0, sigma=0.05,\n",
    "    ediff=1e-8,\n",
    "    ibrion=5,nfree=2, nsw=1,           # finite differences with selective dynamics (Pt atoms fixed)\n",
    "    lreal=False,lwave=False, lcharg=False,\n",
    "    atoms=CO2ads_slab\n",
    ")\n",
    "\n",
    "calc_vib.calculate(CO2ads_slab)\n",
    "\n",
    "vib_Pt111_co2 = calc_vib.get_vibrations()\n",
    "\n",
    "# Frequencies (cm⁻¹)\n",
    "freqs = vib_Pt111_co2.get_frequencies()\n",
    "\n",
    "print(f'Vibrational frequencies of CO2 on Pt111 (cm⁻¹):')\n",
    "\n",
    "vib_energie_Pt111_co2 = []\n",
    "for freq in freqs:\n",
    "    if freq.real > 200:\n",
    "        vib_energy = (freq.real * 1.23981e-4)  # Convert cm⁻¹ to eV\n",
    "        vib_energie_Pt111_co2.append(vib_energy)\n",
    "        print(f'f_v: {freq.real:.3f} cm⁻¹, E_v: {vib_energy:.3f} eV')"
   ]
  },
  {
   "cell_type": "code",
   "execution_count": 41,
   "id": "7ebd8fef",
   "metadata": {},
   "outputs": [],
   "source": [
    "co2_Pt111_thermo = IdealGasThermo(vib_energies=vib_energie_Pt111_co2,\n",
    "                        potentialenergy=E_Pt111_CO2, atoms=CO2ads_slab,\n",
    "                        geometry='nonlinear', symmetrynumber=2, spin=0)\n",
    "\n",
    "G_co2_Pt111 = co2_Pt111_thermo.get_gibbs_energy(temperature=T, pressure=P, verbose=False)\n",
    "H_co2_Pt111 = co2_Pt111_thermo.get_enthalpy(temperature=T, verbose=False)"
   ]
  },
  {
   "cell_type": "code",
   "execution_count": 42,
   "id": "0493873a",
   "metadata": {},
   "outputs": [
    {
     "name": "stdout",
     "output_type": "stream",
     "text": [
      "ΔH CO2 adsorption = -0.001 eV\n"
     ]
    }
   ],
   "source": [
    "Hads_co2 = H_co2_Pt111 - H_co2 - E_Pt111\n",
    "      \n",
    "print(f'ΔH CO2 adsorption = {Hads_co2:.3f} eV')"
   ]
  },
  {
   "cell_type": "markdown",
   "id": "a74247a7",
   "metadata": {},
   "source": [
    "## Reação 4: H2 Adsorption\n",
    "\n",
    "$ H2 + * \\to 2 H*$ "
   ]
  },
  {
   "cell_type": "code",
   "execution_count": 53,
   "id": "f0c7b4f3",
   "metadata": {},
   "outputs": [
    {
     "name": "stdout",
     "output_type": "stream",
     "text": [
      "Optimized energy of H in fcc position of Pt111: -71.760 eV\n"
     ]
    },
    {
     "name": "stderr",
     "output_type": "stream",
     "text": [
      "/home/elvis/Programs/miniforge3/envs/quantum/lib/python3.13/site-packages/ase/calculators/vasp/vasp.py:1004: UserWarning: Magnetic moment data not written in OUTCAR (LORBIT<10), setting magnetic_moments to zero.\n",
      "Set LORBIT>=10 to get information on magnetic moments\n",
      "  warn('Magnetic moment data not written in OUTCAR (LORBIT<10),'\n"
     ]
    }
   ],
   "source": [
    "from ase import Atom\n",
    "# Adsorvendo átomo de H na superfície Pt111\n",
    "\n",
    "H2ads_slab = fcc111(\"Pt\", size=(2,2,3), a=a0_Pt)\n",
    "H2ads_slab.center(vacuum=5.0, axis=2)\n",
    "H2ads_slab.pbc = True\n",
    "\n",
    "h = Atom('H', position=[0.000, 0.000, 0.000], magmom=1.0)\n",
    "\n",
    "add_adsorbate(H2ads_slab,  adsorbate=h, height=0.94, position ='fcc')\n",
    "\n",
    "# fixando os átomos de Pt\n",
    "constraint = FixAtoms(mask=[atom.symbol=='Pt' for atom in H2ads_slab])\n",
    "H2ads_slab.set_constraint([constraint])\n",
    "\n",
    "calc_relax = Vasp(directory='Pt111_H_relax',\n",
    "                xc='PBE',\n",
    "                kpts=[6, 6, 1],  # specifies k-points\n",
    "                encut=450,\n",
    "                ismear=0, sigma=0.05,\n",
    "                ediff=1e-6, ediffg=-0.01,\n",
    "                isif=0, ibrion=2, nsw=100, # ionic relaxation (ISIF=2: relax atoms position only)\n",
    "                atoms=H2ads_slab\n",
    "                )\n",
    "calc_relax.calculate(H2ads_slab) # demora por volta de 29 min\n",
    "\n",
    "E_Pt111_H = H2ads_slab.get_potential_energy()\n",
    "\n",
    "print(f'Optimized energy of H in fcc position of Pt111: {E_Pt111_H:.3f} eV')\n"
   ]
  },
  {
   "cell_type": "code",
   "execution_count": 54,
   "id": "82f2c230",
   "metadata": {},
   "outputs": [
    {
     "name": "stdout",
     "output_type": "stream",
     "text": [
      "Adsorption energy of H2 on Pt111: -0.905 eV\n"
     ]
    }
   ],
   "source": [
    "E_ads_Pt111_H2 = 2*(E_Pt111_H - E_Pt111) - E_h2\n",
    "\n",
    "print(f'Adsorption energy of H2 on Pt111: {E_ads_Pt111_H2:.3f} eV')"
   ]
  },
  {
   "cell_type": "code",
   "execution_count": 55,
   "id": "d4849f34",
   "metadata": {},
   "outputs": [
    {
     "name": "stdout",
     "output_type": "stream",
     "text": [
      "Vibrational frequencies of H on Pt111 (cm⁻¹):\n",
      "f_v: 517.673 cm⁻¹, E_v: 0.064 eV\n",
      "f_v: 517.725 cm⁻¹, E_v: 0.064 eV\n",
      "f_v: 1112.736 cm⁻¹, E_v: 0.138 eV\n"
     ]
    }
   ],
   "source": [
    "calc_vib = Vasp(\n",
    "    directory='Pt111_H_vib',\n",
    "    xc='PBE',\n",
    "    kpts=[6, 6, 1],\n",
    "    encut=450,\n",
    "    ismear=0, sigma=0.05,\n",
    "    ediff=1e-8,\n",
    "    ibrion=5,nfree=2, nsw=1,           # finite differences with selective dynamics (Pt atoms fixed)\n",
    "    lreal=False,lwave=False, lcharg=False,\n",
    "    atoms=H2ads_slab\n",
    ")\n",
    "\n",
    "calc_vib.calculate(H2ads_slab)\n",
    "\n",
    "vib_Pt111_h = calc_vib.get_vibrations()\n",
    "\n",
    "# Frequencies (cm⁻¹)\n",
    "freqs = vib_Pt111_h.get_frequencies()\n",
    "\n",
    "print(f'Vibrational frequencies of H on Pt111 (cm⁻¹):')\n",
    "\n",
    "vib_energie_Pt111_h = []\n",
    "for freq in freqs:\n",
    "    if freq.real > 200:\n",
    "        vib_energy = (freq.real * 1.23981e-4)  # Convert cm⁻¹ to eV\n",
    "        vib_energie_Pt111_h.append(vib_energy)\n",
    "        print(f'f_v: {freq.real:.3f} cm⁻¹, E_v: {vib_energy:.3f} eV')"
   ]
  },
  {
   "cell_type": "code",
   "execution_count": 56,
   "id": "f77bddf6",
   "metadata": {},
   "outputs": [],
   "source": [
    "h_Pt111_thermo = IdealGasThermo(vib_energies=vib_energie_Pt111_h,\n",
    "                        potentialenergy=E_Pt111_H, atoms=H2ads_slab,\n",
    "                        geometry='nonlinear', symmetrynumber=2, spin=0)\n",
    "\n",
    "G_h_Pt111 = h_Pt111_thermo.get_gibbs_energy(temperature=T, pressure=P, verbose=False)\n",
    "H_h_Pt111 = h_Pt111_thermo.get_enthalpy(temperature=T, verbose=False)"
   ]
  },
  {
   "cell_type": "code",
   "execution_count": 58,
   "id": "0097e7b3",
   "metadata": {},
   "outputs": [
    {
     "name": "stdout",
     "output_type": "stream",
     "text": [
      "ΔH H2 adsorption = -0.767 eV\n"
     ]
    }
   ],
   "source": [
    "Hads_h2 = 2*(H_h_Pt111- E_Pt111) - H_h2 \n",
    "\n",
    "print(f'ΔH H2 adsorption = {Hads_h2:.3f} eV')"
   ]
  },
  {
   "cell_type": "markdown",
   "id": "c61ec082",
   "metadata": {},
   "source": [
    "## Resultado Final"
   ]
  },
  {
   "cell_type": "markdown",
   "id": "ef07eba7",
   "metadata": {},
   "source": [
    "\n",
    "| Reação                                 | $\\Delta E$ (eV)  | $\\Delta H$ (eV) |\n",
    "|----------------------------------------|----------|------------|\n",
    "| $ H_2 O + ^* \\rightleftarrows H_2 O^*$ |  -0.210  | -0.156     |\n",
    "| $ CO + * \\rightleftarrows CO*$         |  -1.753  | -1.671     |\n",
    "| $ CO2 + * \\rightleftarrows CO2*$       |  -0.012  | -0.001     |\n",
    "| $ H2 + * \\rightleftarrows 2 H*$        |  -0.905  | -0.767     |\n"
   ]
  },
  {
   "cell_type": "code",
   "execution_count": 88,
   "id": "981434f7",
   "metadata": {},
   "outputs": [
    {
     "data": {
      "image/png": "[encoded data removed]",
      "text/plain": [
       "<Figure size 640x480 with 1 Axes>"
      ]
     },
     "metadata": {},
     "output_type": "display_data"
    }
   ],
   "source": [
    "from matplotlib import pyplot as plt\n",
    "\n",
    "plt.hlines(H_h2o+H_co, xmin=0, xmax=1, colors='black')\n",
    "plt.hlines(H_h2o_Pt111+H_co, xmin=1, xmax=2, colors='black')\n",
    "plt.hlines(H_h2o_Pt111+H_co_Pt111, xmin=2, xmax=3, colors='black')\n",
    "plt.hlines(H_co2_Pt111+2*H_h_Pt111, xmin=3, xmax=4, colors='black')\n",
    "plt.hlines(H_co2_Pt111+H_h2, xmin=4, xmax=5, colors='black')\n",
    "plt.hlines(H_co2+H_h2, xmin=5, xmax=6, colors='black')\n",
    "\n",
    "plt.ylabel(r'$H$ (eV)')\n",
    "plt.xticks([0.5,1.5, 2.5, 3.5, 4.5, 5.5], ['H2O+CO','H2O(ads)+CO','H2O(ads)+CO(ads)','CO2(ads) + H2(ads)', 'CO2(ads) + H2', 'CO2 + H2'], rotation=45)\n",
    "plt.title('Water-gas shift reaction on Pt(111) surface')\n",
    "plt.grid(axis='y')"
   ]
  },
  {
   "cell_type": "code",
   "execution_count": null,
   "id": "7af44173",
   "metadata": {},
   "outputs": [],
   "source": []
  }
 ],
 "metadata": {
  "kernelspec": {
   "display_name": "quantum",
   "language": "python",
   "name": "python3"
  },
  "language_info": {
   "codemirror_mode": {
    "name": "ipython",
    "version": 3
   },
   "file_extension": ".py",
   "mimetype": "text/x-python",
   "name": "python",
   "nbconvert_exporter": "python",
   "pygments_lexer": "ipython3",
   "version": "3.13.5"
  }
 },
 "nbformat": 4,
 "nbformat_minor": 5
}
