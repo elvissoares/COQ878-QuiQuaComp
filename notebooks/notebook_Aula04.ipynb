{
 "cells": [
  {
   "cell_type": "markdown",
   "id": "d4be88b4",
   "metadata": {},
   "source": [
    "# Cálculo de Energia Livre usando VASP e ASE\n",
    "\n",
    "Autor: [Prof. Elvis do A. Soares](https://github.com/elvissoares) \n",
    "\n",
    "Contato: [elvis@peq.coppe.ufrj.br](mailto:elvis@peq.coppe.ufrj.br) - [Programa de Engenharia Química, PEQ/COPPE, UFRJ, Brasil](https://www.peq.coppe.ufrj.br/)\n",
    "\n",
    "---"
   ]
  },
  {
   "cell_type": "code",
   "execution_count": null,
   "id": "fbb4801e",
   "metadata": {},
   "outputs": [],
   "source": [
    "import os\n",
    "# Definindo o path para os arquivos de potencial de pseudopotenciais do VASP\n",
    "# Certifique-se de que o caminho esteja correto para o seu sistema\n",
    "os.environ['VASP_PP_PATH'] = '/home/elvis/Programs/vasp-6.5.1/pp'\n",
    "os.environ['ASE_VASP_COMMAND'] = 'mpirun -np 1 vasp_std_gpu'\n",
    "os.environ['NO_STOP_MESSAGE'] = '1' # to avoid warning from mpirun\n",
    "\n",
    "# Importando o VASP calculator do ASE\n",
    "from ase.calculators.vasp import Vasp\n",
    "\n",
    "from ase import Atoms\n",
    "from ase.io import write, read\n",
    "from ase.visualize import view\n",
    "\n",
    "import nglview as nv\n",
    "\n",
    "import numpy as np"
   ]
  },
  {
   "cell_type": "markdown",
   "id": "62c59185",
   "metadata": {},
   "source": [
    "## Cálculo dos Modos Vibracionais "
   ]
  },
  {
   "cell_type": "code",
   "execution_count": null,
   "id": "06acd055",
   "metadata": {},
   "outputs": [],
   "source": [
    "# 1. Define H2O molecule\n",
    "h2o = Atoms('H2O',\n",
    "            positions=[[0.000, 0.000, 0.000],\n",
    "                       [0.757, 0.586, 0.000],\n",
    "                       [-0.757, 0.586, 0.000]])\n",
    "\n",
    "h2o.center(vacuum=5.0)  # Center the molecule in the cell\n",
    "h2o.pbc = True"
   ]
  },
  {
   "cell_type": "markdown",
   "id": "62901534",
   "metadata": {},
   "source": [
    "### Passo 1: Otimização da Geometria da Molécula "
   ]
  },
  {
   "cell_type": "code",
   "execution_count": null,
   "id": "304c2774",
   "metadata": {},
   "outputs": [],
   "source": [
    "# 2. Geometry optimization first\n",
    "calc_relax = Vasp(\n",
    "    directory='h2o_opt',\n",
    "    xc='PBE',\n",
    "    encut=450,\n",
    "    ismear=0, sigma=0.05,\n",
    "    ediff=1e-6, ediffg=-0.01,\n",
    "    isif=2, ibrion=2, nsw=100,\n",
    "    nelm=100,\n",
    "    lwave=True, lcharg=True, lvtot=True,\n",
    "    atoms=h2o\n",
    ")\n",
    "calc_relax.calculate(h2o)"
   ]
  },
  {
   "cell_type": "markdown",
   "id": "05ee5449",
   "metadata": {},
   "source": [
    "Demorou 48 s"
   ]
  },
  {
   "cell_type": "code",
   "execution_count": null,
   "id": "2166223f",
   "metadata": {},
   "outputs": [],
   "source": [
    "E_0_h2o = h2o.get_potential_energy()\n",
    "\n",
    "print(f'Optimized energy of H2O: {E_0_h2o} eV')"
   ]
  },
  {
   "cell_type": "markdown",
   "id": "bb2064e9",
   "metadata": {},
   "source": [
    "### Passo 2: Cálculo de DFTPT para Hessiana"
   ]
  },
  {
   "cell_type": "code",
   "execution_count": null,
   "id": "e309cec7",
   "metadata": {},
   "outputs": [],
   "source": [
    "# 3. dftpt vibrational calculation (uses linear response)\n",
    "calc_vib = Vasp(\n",
    "    directory='h2o_dftpt',\n",
    "    xc='PBE',\n",
    "    encut=450,\n",
    "    ismear=0, sigma=0.05,\n",
    "    ediff=1e-8,\n",
    "    ibrion=8,           # dftpt for vibrational analysis\n",
    "    nfree=2,            # Central difference (default)\n",
    "    lepsilon=True,      # Compute Born charges and dielectric tensor\n",
    "    lreal=False,\n",
    "    lwave=False, lcharg=False,\n",
    "    atoms=h2o\n",
    ")\n",
    "\n",
    "calc_vib.calculate(h2o)"
   ]
  },
  {
   "cell_type": "markdown",
   "id": "bafa131c",
   "metadata": {},
   "source": [
    "Demorou 2m 43 s"
   ]
  },
  {
   "cell_type": "markdown",
   "id": "cc5b4504",
   "metadata": {},
   "source": [
    "### Passo 3: Cálculo das frequências e das energias a partir da Hessiana"
   ]
  },
  {
   "cell_type": "markdown",
   "id": "e02a2af9",
   "metadata": {},
   "source": [
    "Re-lendo cálculo já realizado"
   ]
  },
  {
   "cell_type": "code",
   "execution_count": null,
   "id": "09001d2b",
   "metadata": {},
   "outputs": [],
   "source": [
    "calc_vib = Vasp(restart=True,directory='h2o_dftpt')"
   ]
  },
  {
   "cell_type": "markdown",
   "id": "9d207db0",
   "metadata": {},
   "source": [
    "Lendo os dados de vibração a partir da matriz Hessiana"
   ]
  },
  {
   "cell_type": "code",
   "execution_count": null,
   "id": "fa8dc72b",
   "metadata": {},
   "outputs": [],
   "source": [
    "vib_water = calc_vib.get_vibrations()\n",
    "\n",
    "# Frequencies (cm⁻¹)\n",
    "freqs = vib_water.get_frequencies()\n",
    "\n",
    "# All displacement vectors (n_modes, n_atoms, 3)\n",
    "modes = vib_water.get_modes()\n",
    "\n",
    "for i, f in enumerate(freqs):\n",
    "    # write frequencies in cm-1 separeting the real and imaginary parts\n",
    "    print(f\"Mode {i:01d}: {f.real:.2f} cm-1 (real), {f.imag:.2f} cm-1 (imaginary)\")"
   ]
  },
  {
   "cell_type": "markdown",
   "id": "26175f28",
   "metadata": {},
   "source": [
    "### Passo 4 (opcional): Exporta os arquivos de trajetória dos modos vibracionais "
   ]
  },
  {
   "cell_type": "code",
   "execution_count": null,
   "id": "5001617a",
   "metadata": {},
   "outputs": [],
   "source": [
    "# Get equilibrium geometry \n",
    "atoms_eq = vib_water.get_atoms()\n",
    "\n",
    "# --- Loop over all modes to generate trajectories ---\n",
    "amp = 0.2           # Å: visualization amplitude (not physical)\n",
    "n_cycles = 5        # number of oscillations you want\n",
    "n_frames = 50      # total number of frames (smooth animation)\n",
    "\n",
    "# --- Create output directory ---\n",
    "directory = \"water_vib_modes\"\n",
    "os.makedirs(directory, exist_ok=True)\n",
    "\n",
    "for i, f in enumerate(freqs):\n",
    "    # Skip imaginary and near-zero modes\n",
    "    if f.imag != 0 or abs(f.real) < 50.0:\n",
    "        continue\n",
    "\n",
    "    mode = modes[i]\n",
    "    frames = []\n",
    "    for j in range(n_frames):\n",
    "        phase = 2 * np.pi * n_cycles * j / n_frames\n",
    "        atoms = atoms_eq.copy()\n",
    "        atoms.positions += amp * np.sin(phase) * mode\n",
    "        frames.append(atoms)\n",
    "\n",
    "    fname = directory+f\"/mode_{i:01d}.traj\"\n",
    "    write(fname, frames)\n",
    "    print(f\"Mode {i:01d}: {f.real:.2f} cm-1 = {f.real*0.12398:.2f} meV\")\n",
    "\n",
    "print(f\"✅ All vibrational modes exported in {directory}\")"
   ]
  },
  {
   "cell_type": "code",
   "execution_count": null,
   "id": "8edca205",
   "metadata": {},
   "outputs": [],
   "source": [
    "# Load the vibrational trajectory file\n",
    "traj = read(directory+'/mode_6.traj', index=':')\n",
    "\n",
    "# Create NGLView widget\n",
    "w = nv.show_asetraj(traj)\n",
    "w.add_ball_and_stick()\n",
    "\n",
    "w"
   ]
  },
  {
   "cell_type": "markdown",
   "id": "ee171ce2",
   "metadata": {},
   "source": [
    "## Cálculo de ZVPE"
   ]
  },
  {
   "cell_type": "markdown",
   "id": "902ac2f6",
   "metadata": {},
   "source": [
    "### Passo 1: Calcula as energias vibracionais a partir das frequências de vibração\n",
    "\n",
    "$ E = h \\nu$"
   ]
  },
  {
   "cell_type": "code",
   "execution_count": null,
   "id": "3d356619",
   "metadata": {},
   "outputs": [],
   "source": [
    "# convert cm^{-1} to eV\n",
    "h = 4.1356675e-15 # eV*s\n",
    "c = 3.0e10 #cm/s\n",
    "vib_energies_h2o = []\n",
    "for i,f in enumerate(freqs):\n",
    "    if f.imag != 0 or abs(f.real) < 50.0:\n",
    "        continue\n",
    "\n",
    "    e = h*c*f.real\n",
    "    vib_energies_h2o.append(e)\n",
    "    print(f'Mode {i:01d}: {e:<.3f} eV')"
   ]
  },
  {
   "cell_type": "markdown",
   "id": "d485f4ac",
   "metadata": {},
   "source": [
    "### Passo 2: Calcula o ZPVE\n",
    "$ZVPE = \\sum_{v=1}^{\\text{modos de vibração}} \\frac{1}{2} h \\nu_v$"
   ]
  },
  {
   "cell_type": "code",
   "execution_count": null,
   "id": "1d896ed4",
   "metadata": {},
   "outputs": [],
   "source": [
    "ZPE_h2o = 0.5 * sum(vib_energies_h2o)\n",
    "print(f'Zero-point energy (ZPE) of H2O: {ZPE_h2o:.3f} eV')"
   ]
  },
  {
   "cell_type": "markdown",
   "id": "24c5b3a7",
   "metadata": {},
   "source": [
    "## Cálculo de Qtds Termodinâmicas"
   ]
  },
  {
   "cell_type": "markdown",
   "id": "1468a430",
   "metadata": {},
   "source": [
    "Usando função `IdealGasThermo` do `ASE` facilita nossa vida!"
   ]
  },
  {
   "cell_type": "code",
   "execution_count": null,
   "id": "839718c6",
   "metadata": {},
   "outputs": [],
   "source": [
    "from ase.thermochemistry import IdealGasThermo\n",
    "\n",
    "h2o_thermo = IdealGasThermo(vib_energies=vib_energies_h2o,\n",
    "                        potentialenergy=E_0_h2o, atoms=h2o,\n",
    "                        geometry='nonlinear', symmetrynumber=2, spin=0)"
   ]
  },
  {
   "cell_type": "markdown",
   "id": "9124ba22",
   "metadata": {},
   "source": [
    "`symmetrynumber`: Table 10.1 and\n",
    "        Appendix B of C. Cramer \"Essentials of Computational Chemistry\",\n",
    "        2nd Ed"
   ]
  },
  {
   "cell_type": "code",
   "execution_count": null,
   "id": "b863529a",
   "metadata": {},
   "outputs": [],
   "source": [
    "# temperature in K and pressure in Pa\n",
    "G_h2o = h2o_thermo.get_gibbs_energy(temperature=298.15, pressure=1e5)"
   ]
  },
  {
   "cell_type": "markdown",
   "id": "b6dd9719",
   "metadata": {},
   "source": [
    "> DPL: Diversão para o Lar\n",
    "> \n",
    "> 📝 Repita os procedimentos acima agora para a molécula de CO_2.\n",
    ">  \n",
    "> Atente para a geometria linear da molécula e seu grupo de simetria. \n",
    "> \n",
    "> "
   ]
  },
  {
   "cell_type": "code",
   "execution_count": null,
   "id": "2228954d",
   "metadata": {},
   "outputs": [],
   "source": []
  }
 ],
 "metadata": {
  "kernelspec": {
   "display_name": "quantum",
   "language": "python",
   "name": "python3"
  },
  "language_info": {
   "codemirror_mode": {
    "name": "ipython",
    "version": 3
   },
   "file_extension": ".py",
   "mimetype": "text/x-python",
   "name": "python",
   "nbconvert_exporter": "python",
   "pygments_lexer": "ipython3",
   "version": "3.13.5"
  }
 },
 "nbformat": 4,
 "nbformat_minor": 5
}
